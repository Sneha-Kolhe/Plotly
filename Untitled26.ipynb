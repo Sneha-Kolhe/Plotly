{
 "cells": [
  {
   "cell_type": "markdown",
   "id": "15ffb50d-db0b-47fe-8a9e-4e664f63020b",
   "metadata": {},
   "source": [
    "## Q1. Load the \"titanic\" dataset using the load_dataset function of seaborn. Use Plotly express to plot a\n",
    "scatter plot for age and fare columns in the titanic dataset."
   ]
  },
  {
   "cell_type": "code",
   "execution_count": null,
   "id": "a02ba88d-3bbe-43fc-b655-f0923010dc94",
   "metadata": {},
   "outputs": [],
   "source": [
    "To achieve this, we'll use Plotly Express to create a scatter plot for the \"age\" and \"fare\" columns in the Titanic dataset. Plotly Express provides a simple and intuitive interface for creating various types of plots, including scatter plots.\n",
    "\n",
    "Here's how you can do it:\n",
    "\n",
    "import seaborn as sns\n",
    "import plotly.express as px\n",
    "\n",
    "# Load the \"titanic\" dataset\n",
    "titanic_data = sns.load_dataset(\"titanic\")\n",
    "\n",
    "# Create a scatter plot using Plotly Express\n",
    "scatter_plot = px.scatter(titanic_data, x=\"age\", y=\"fare\", title=\"Scatter Plot of Age vs Fare in Titanic Dataset\")\n",
    "\n",
    "# Show the plot\n",
    "scatter_plot.show()\n",
    "This code will create a scatter plot using Plotly Express, with \"age\" on the x-axis and \"fare\" on the y-axis, visualizing the relationship between passenger age and fare paid on the Titanic."
   ]
  }
 ],
 "metadata": {
  "kernelspec": {
   "display_name": "Python 3 (ipykernel)",
   "language": "python",
   "name": "python3"
  },
  "language_info": {
   "codemirror_mode": {
    "name": "ipython",
    "version": 3
   },
   "file_extension": ".py",
   "mimetype": "text/x-python",
   "name": "python",
   "nbconvert_exporter": "python",
   "pygments_lexer": "ipython3",
   "version": "3.10.8"
  }
 },
 "nbformat": 4,
 "nbformat_minor": 5
}
